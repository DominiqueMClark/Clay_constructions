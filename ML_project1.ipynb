{
 "cells": [
  {
   "cell_type": "code",
   "execution_count": 3,
   "metadata": {
    "colab": {
     "base_uri": "https://localhost:8080/",
     "height": 72,
     "resources": {
      "http://localhost:8080/nbextensions/google.colab/files.js": {
       "data": "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",
       "headers": [
        [
         "content-type",
         "application/javascript"
        ]
       ],
       "ok": true,
       "status": 200,
       "status_text": ""
      }
     }
    },
    "id": "mGxUrJQMw24o",
    "outputId": "d2710ad5-1cae-4fe8-8e38-6bf088c8adf7"
   },
   "outputs": [
    {
     "data": {
      "text/html": [
       "\n",
       "     <input type=\"file\" id=\"files-97fc934c-0253-48d0-acad-cf4f594dbc1b\" name=\"files[]\" multiple disabled\n",
       "        style=\"border:none\" />\n",
       "     <output id=\"result-97fc934c-0253-48d0-acad-cf4f594dbc1b\">\n",
       "      Upload widget is only available when the cell has been executed in the\n",
       "      current browser session. Please rerun this cell to enable.\n",
       "      </output>\n",
       "      <script src=\"/nbextensions/google.colab/files.js\"></script> "
      ],
      "text/plain": [
       "<IPython.core.display.HTML object>"
      ]
     },
     "metadata": {
      "tags": []
     },
     "output_type": "display_data"
    },
    {
     "name": "stdout",
     "output_type": "stream",
     "text": [
      "Saving SG.txt to SG.txt\n"
     ]
    }
   ],
   "source": [
    "from google.colab import files \n",
    "upload = files.upload()\n"
   ]
  },
  {
   "cell_type": "markdown",
   "metadata": {
    "id": "gLCqUVT43aP_"
   },
   "source": [
    "### Importing and separating the glaze data into a numpy array to convert to csv later. "
   ]
  },
  {
   "cell_type": "code",
   "execution_count": 4,
   "metadata": {
    "id": "GeD2CYOwzaGU"
   },
   "outputs": [],
   "source": [
    "import csv\n",
    "\n",
    "glazes = open(\"SG.txt\", 'r')\n",
    "lines = glazes.readlines()\n",
    "\n",
    "c_6 = False\n",
    "\n",
    "i = 0\n",
    "with open(\"glazes.csv\", 'w', newline = '') as c_6:\n",
    "\twriter = csv.writer(c_6)\n",
    "\n",
    "\tfor line in lines:\n",
    "\n",
    "\t\tif (\"C: 6\\n\" in line): '''Grabbing all of the Cone 6 glazes in database and\n",
    "                              writing to a csv file.\n",
    "                              '''\n",
    "\t\t\twriter.writerow([f\"Cone 6:{i}\"]) \n",
    "\t\t\tc_6 = True\n",
    "\t\t\ti+=1\n",
    "\n",
    "\t\tif ((line[:2] == \"E:\" or line[:2] == \"F:\") and c_6 == True):\n",
    "\t\t\twriter.writerow([line])\n",
    "                            '''Extracting only the material features from \n",
    "                            dataset as well as the F: column wich is \n",
    "                            the glaze texture that model is going to predict'''\n",
    "\t\telse: continue\n",
    "\n",
    "\timport pandas as pd \n",
    "\n",
    "\tfeatures = []\n",
    "\tfor line in lines:\n",
    "\t\tif line[:2] == \"E:\":\n",
    "\t\t\tfeatures.append(line.split(' ')[2].lower().strip(\"\\n\"))\n",
    "\tfeatures = list(set(features))\n",
    " \t\n",
    "\tlabels = []\n",
    "\tfor line in lines:\n",
    "\t\tif line[:2] == \"F:\":\n",
    "\t\t\tlabels.append(line.split(' ')[1].lower().strip('\\n'))\n",
    "\tlabels = list(set(labels))\n",
    "\t'''\n",
    "    Adding All labels and features in database to list.\n",
    "  '''\n",
    "\n",
    "dataPts = []\n",
    "i = 0\n",
    "for line in lines:\n",
    "  if f\"C: 6\\n\" in line:\n",
    "      dataPts.append(f\"Cone 6:{i}\")\n",
    "\t\n",
    "\n",
    "import numpy as np \n",
    "data = np.zeros((len(dataPts),len(features) +1))\n",
    "\n",
    "\"\"\"\n",
    "Creating numpy array for csv conversion\n",
    "\"\"\"\n",
    "\n"
   ]
  },
  {
   "cell_type": "markdown",
   "metadata": {
    "id": "I7Ihi2Kptz6A"
   },
   "source": [
    "Converting numpy array into a csv file as well as encoding labels for the csv file.\n",
    "\n",
    "    "
   ]
  },
  {
   "cell_type": "code",
   "execution_count": 5,
   "metadata": {
    "id": "Bf0EAh7d9K-5"
   },
   "outputs": [],
   "source": [
    "from sklearn import preprocessing\n",
    "\n",
    "encoding = preprocessing.LabelEncoder()\n",
    "encoding.fit(labels)\n",
    "\n",
    "#Making encoded values on labels so I can categorize them as numbers\n",
    "\n",
    "label_val = {i : 0 for i in labels}\n",
    "\n",
    "\n",
    "with open(\"glazes.csv\", 'r') as cones:\n",
    "  i = 0\n",
    "  value = ''\n",
    "  for lines in cones:\n",
    "    if \"Cone 6:\" in lines:\n",
    "      i = int(lines.split(':')[1])\n",
    "    if \"E: \" in lines:\n",
    "      if '-' in lines.split(' ')[1]:\n",
    "        data[i,features.index(lines.split(' ')[2].strip('\\n').lower())] \\\n",
    "                           = lines.split(' ')[1].split('-')[0]\n",
    "      elif ',' in lines.split(' ')[1]:\n",
    "        data[i,features.index(lines.split(' ')[2].strip('\\n').lower())] \\\n",
    "                           = lines.split(' ')[1].split(',')[0]\n",
    "      elif '%' in lines:\n",
    "        data[i,features.index(lines.split(' ')[2].strip('\\n').lower())] \\\n",
    "                           = lines.split(' ')[1].strip('%')\n",
    "      else:\n",
    "        data[i,features.index(lines.split(' ')[2].strip('\\n').lower())] \\\n",
    "                           = lines.split(' ')[1]\n",
    "    elif \"F: \" in lines: \n",
    "      data[i,len(features)] = encoding.transform\\\n",
    "      ([lines.split(\" \")[1].lower().strip('\\n')])\n",
    "      \n",
    "      label_val[lines.split(\" \")[1].lower().strip('\\n')] +=1\n",
    "      '''\n",
    "      More cleaning of database extracting all non-useful characters:\n",
    "      \"\\n\", \"%\", \"E:\", \"F:\", and \",\"\n",
    "      '''\n",
    "      \n",
    "\n",
    "dataFrame = pd.DataFrame(data)\n",
    "dataFrame.to_csv(\"Glaze_data.csv\")\n",
    "#Converting numpy array to csv file "
   ]
  },
  {
   "cell_type": "markdown",
   "metadata": {
    "id": "2VyfMXDvMay4"
   },
   "source": [
    "Visualizing the data.\n",
    "\n",
    "Making a pie chart for the distribution of labels in the dataset"
   ]
  },
  {
   "cell_type": "code",
   "execution_count": 151,
   "metadata": {
    "colab": {
     "base_uri": "https://localhost:8080/",
     "height": 531
    },
    "id": "4vDSFZoI6N3V",
    "outputId": "b89c95c5-aa41-4fa7-d253-dd3b521ce4ee"
   },
   "outputs": [
    {
     "data": {
      "application/vnd.google.colaboratory.intrinsic+json": {
       "type": "string"
      },
      "text/plain": [
       "'\\nPlotting the distribution of all the different glaze types spread throught the \\ndataset in a pie-chart to see what glaze type dominates the dataset.\\n'"
      ]
     },
     "execution_count": 151,
     "metadata": {
      "tags": []
     },
     "output_type": "execute_result"
    },
    {
     "data": {
      "image/png": "[encoded data removed]",
      "text/plain": [
       "<Figure size 432x288 with 1 Axes>"
      ]
     },
     "metadata": {
      "tags": []
     },
     "output_type": "display_data"
    }
   ],
   "source": [
    "import matplotlib.pyplot as plt\n",
    "\n",
    "values = list(label_val.values())\n",
    "\n",
    "_, ax1 = plt.subplots()\n",
    "\n",
    "_, autotexts = ax1.pie(values,labels = labels, shadow = False, radius = 2.5)\n",
    "\n",
    "ax1.legend(labels, title = \"Glaze types\", loc = \"upper right\",\\\n",
    "           bbox_to_anchor=(1, 0, 1.5, 1))\n",
    "plt.setp(autotexts, size = 10)\n",
    "ax1.set_title(\"Glaze type distribution\",loc = \"center\", \\\n",
    "              fontweight = \"bold\", fontsize = 20, verticalalignment = \"bottom\")\n",
    "\"\"\"\n",
    "Plotting the distribution of all the different glaze types spread throught the \n",
    "dataset in a pie-chart to see what glaze type dominates the dataset.\n",
    "\"\"\"\n",
    "\n"
   ]
  },
  {
   "cell_type": "markdown",
   "metadata": {
    "id": "yKTK9LkPMZxq"
   },
   "source": [
    "Splitting dataset and training neural network."
   ]
  },
  {
   "cell_type": "code",
   "execution_count": 148,
   "metadata": {
    "colab": {
     "base_uri": "https://localhost:8080/"
    },
    "id": "WnVnSunkvU-n",
    "outputId": "be32a0fa-edb0-4f37-bfae-6036dad8ca33"
   },
   "outputs": [
    {
     "name": "stdout",
     "output_type": "stream",
     "text": [
      "Epoch 1/100\n",
      "4/4 - 1s - loss: 2.4375 - accuracy: 0.1381 - val_loss: 1.8070 - val_accuracy: 0.5476\n",
      "Epoch 2/100\n",
      "4/4 - 0s - loss: 1.8416 - accuracy: 0.4294 - val_loss: 1.4233 - val_accuracy: 0.5476\n",
      "Epoch 3/100\n",
      "4/4 - 0s - loss: 1.6484 - accuracy: 0.4294 - val_loss: 1.3163 - val_accuracy: 0.5476\n",
      "Epoch 4/100\n",
      "4/4 - 0s - loss: 1.5924 - accuracy: 0.4294 - val_loss: 1.2905 - val_accuracy: 0.5476\n",
      "Epoch 5/100\n",
      "4/4 - 0s - loss: 1.5656 - accuracy: 0.4595 - val_loss: 1.2989 - val_accuracy: 0.5595\n",
      "Epoch 6/100\n",
      "4/4 - 0s - loss: 1.5416 - accuracy: 0.4625 - val_loss: 1.2783 - val_accuracy: 0.5476\n",
      "Epoch 7/100\n",
      "4/4 - 0s - loss: 1.5189 - accuracy: 0.4324 - val_loss: 1.2537 - val_accuracy: 0.5476\n",
      "Epoch 8/100\n",
      "4/4 - 0s - loss: 1.5068 - accuracy: 0.4294 - val_loss: 1.2323 - val_accuracy: 0.5476\n",
      "Epoch 9/100\n",
      "4/4 - 0s - loss: 1.4824 - accuracy: 0.4414 - val_loss: 1.2215 - val_accuracy: 0.5476\n",
      "Epoch 10/100\n",
      "4/4 - 0s - loss: 1.4578 - accuracy: 0.4925 - val_loss: 1.2216 - val_accuracy: 0.6310\n",
      "Epoch 11/100\n",
      "4/4 - 0s - loss: 1.4357 - accuracy: 0.5225 - val_loss: 1.2141 - val_accuracy: 0.6310\n",
      "Epoch 12/100\n",
      "4/4 - 0s - loss: 1.4140 - accuracy: 0.5255 - val_loss: 1.1995 - val_accuracy: 0.6548\n",
      "Epoch 13/100\n",
      "4/4 - 0s - loss: 1.3890 - accuracy: 0.5375 - val_loss: 1.1810 - val_accuracy: 0.6548\n",
      "Epoch 14/100\n",
      "4/4 - 0s - loss: 1.3663 - accuracy: 0.5345 - val_loss: 1.1637 - val_accuracy: 0.6548\n",
      "Epoch 15/100\n",
      "4/4 - 0s - loss: 1.3457 - accuracy: 0.5405 - val_loss: 1.1490 - val_accuracy: 0.6548\n",
      "Epoch 16/100\n",
      "4/4 - 0s - loss: 1.3263 - accuracy: 0.5495 - val_loss: 1.1473 - val_accuracy: 0.6548\n",
      "Epoch 17/100\n",
      "4/4 - 0s - loss: 1.3053 - accuracy: 0.5526 - val_loss: 1.1348 - val_accuracy: 0.6429\n",
      "Epoch 18/100\n",
      "4/4 - 0s - loss: 1.2843 - accuracy: 0.5616 - val_loss: 1.1230 - val_accuracy: 0.6310\n",
      "Epoch 19/100\n",
      "4/4 - 0s - loss: 1.2623 - accuracy: 0.5646 - val_loss: 1.1127 - val_accuracy: 0.6429\n",
      "Epoch 20/100\n",
      "4/4 - 0s - loss: 1.2420 - accuracy: 0.5736 - val_loss: 1.1081 - val_accuracy: 0.6429\n",
      "Epoch 21/100\n",
      "4/4 - 0s - loss: 1.2194 - accuracy: 0.5856 - val_loss: 1.1105 - val_accuracy: 0.6429\n",
      "Epoch 22/100\n",
      "4/4 - 0s - loss: 1.2007 - accuracy: 0.5946 - val_loss: 1.1032 - val_accuracy: 0.6429\n",
      "Epoch 23/100\n",
      "4/4 - 0s - loss: 1.1779 - accuracy: 0.5976 - val_loss: 1.0786 - val_accuracy: 0.6548\n",
      "Epoch 24/100\n",
      "4/4 - 0s - loss: 1.1576 - accuracy: 0.5976 - val_loss: 1.0754 - val_accuracy: 0.6548\n",
      "Epoch 25/100\n",
      "4/4 - 0s - loss: 1.1379 - accuracy: 0.6006 - val_loss: 1.0626 - val_accuracy: 0.6429\n",
      "Epoch 26/100\n",
      "4/4 - 0s - loss: 1.1176 - accuracy: 0.6066 - val_loss: 1.0631 - val_accuracy: 0.6429\n",
      "Epoch 27/100\n",
      "4/4 - 0s - loss: 1.0947 - accuracy: 0.6246 - val_loss: 1.0696 - val_accuracy: 0.6310\n"
     ]
    }
   ],
   "source": [
    "from sklearn import preprocessing\n",
    "\n",
    "np.random.shuffle(data)\n",
    "dnn_features = data[:, :89]\n",
    "dnn_labels = data[:, 89]\n",
    "\n",
    "scalar = preprocessing.StandardScaler()\n",
    "\n",
    "features_standardized = scalar.fit_transform(dnn_features)\n",
    "\"\"\"\n",
    "Initializing all values for material amounts in glazes to small numbers\n",
    "to make all the units on the same scale for the neural network.\n",
    "\"\"\" \n",
    "\n",
    "from sklearn.model_selection import train_test_split\n",
    "\n",
    "features_train, features_test, target_vector_train, target_vector_test = \\\n",
    "                                      train_test_split(dnn_features,\\\n",
    "                                                       dnn_labels,\n",
    "                                                    test_size = .2,\n",
    "                                                    random_state = 0)\n",
    "\n",
    "from keras.utils.np_utils import to_categorical\n",
    "from keras.callbacks import EarlyStopping, ModelCheckpoint\n",
    "from keras import models\n",
    "from keras import layers\n",
    "from IPython.display import SVG\n",
    "from keras.utils.vis_utils import model_to_dot\n",
    "from keras.utils import plot_model\n",
    "\n",
    "np.random.seed(0)\n",
    "\n",
    "number_of_features = len(features)\n",
    "\n",
    "target_train = to_categorical(target_vector_train)\n",
    "target_test = to_categorical(target_vector_test)\n",
    "\"\"\"\n",
    "One-hot encoding target vectors to create target matrix.\n",
    "\"\"\"\n",
    "\n",
    "\n",
    "glaze_network = models.Sequential()\n",
    "\n",
    "glaze_network.add(layers.Dense(units = len(features),\n",
    "                         activation = \"sigmoid\",\n",
    "                         input_dim = len(features)))\n",
    "glaze_network.add(layers.Dense(units = 256, activation=\"sigmoid\"))\n",
    "\n",
    "glaze_network.add(layers.Dense(units = len(labels), activation=\"softmax\"))\n",
    "\n",
    "SVG(model_to_dot(glaze_network, show_shapes = True).create(prog = \"dot\",\\\n",
    "                                                     format = \"svg\"))\n",
    "plot_model(glaze_network, show_shapes = True, to_file = \"glaze_network.png\")\n",
    "\n",
    "glaze_network.compile(loss = \"categorical_crossentropy\",\n",
    "                optimizer = \"adam\",\n",
    "                metrics = [\"accuracy\"])\n",
    "\n",
    "earlystop = [EarlyStopping(monitor = \"val_loss\", patience = 2),\n",
    "             ModelCheckpoint(filepath = \"best_model.h5\",\n",
    "                             monitor = \"val_loss\",\n",
    "                             save_best_only = True)]\n",
    "\"\"\"\n",
    "Adding Early stopping to model so the model will not overfit the data\n",
    "and will stop when the loss does not improve after 2 epochs.\n",
    "\n",
    "ModelCheckpoint is so I will save only the best model.\n",
    "\"\"\"\n",
    "\n",
    "history = glaze_network.fit(features_train, \n",
    "                      target_train,\n",
    "                      epochs = 100, \n",
    "                      callbacks=earlystop,#Early Stopping to reduce overfitting\n",
    "                      verbose = 2,\n",
    "                      batch_size = 100,\n",
    "                      validation_data = (features_test, target_test))\n",
    "\n",
    "\n"
   ]
  },
  {
   "cell_type": "markdown",
   "metadata": {
    "id": "D34KJ17DX-Kr"
   },
   "source": [
    "Printing accuracy of model."
   ]
  },
  {
   "cell_type": "code",
   "execution_count": 149,
   "metadata": {
    "colab": {
     "base_uri": "https://localhost:8080/"
    },
    "id": "s6V_CsLYhq12",
    "outputId": "80e112f7-be4e-42ed-e7f2-cec511f71141"
   },
   "outputs": [
    {
     "name": "stdout",
     "output_type": "stream",
     "text": [
      "3/3 [==============================] - 0s 3ms/step - loss: 1.0696 - accuracy: 0.6310\n",
      "[1.0696067810058594, 0.6309523582458496]\n",
      "Model predicted 63% of the testing set correctly\n"
     ]
    }
   ],
   "source": [
    "import math\n",
    "acc = glaze_network.evaluate(features_test, target_test)\n",
    "print(acc)\n",
    "\"\"\"\n",
    "Printing the overall accuracy of the model on the testing data. \n",
    "\"\"\"\n",
    "\n",
    "print(f\"Model predicted {math.floor(acc[1]*100)}% of the testing set correctly\")"
   ]
  },
  {
   "cell_type": "markdown",
   "metadata": {
    "id": "BuIMRaWgTlE0"
   },
   "source": [
    "Plotting the Training and Validation   loss to see when model would start to overfit.\n",
    "\n",
    "Also plotting the Training and Validation accuracy of model over each epoch."
   ]
  },
  {
   "cell_type": "code",
   "execution_count": 150,
   "metadata": {
    "colab": {
     "base_uri": "https://localhost:8080/",
     "height": 541
    },
    "id": "hP_pPk4SEYLL",
    "outputId": "044f9490-f3b3-4524-b72a-8a20f81a4588"
   },
   "outputs": [
    {
     "data": {
      "image/png": "[encoded data removed]",
      "text/plain": [
       "<Figure size 432x288 with 1 Axes>"
      ]
     },
     "metadata": {
      "needs_background": "light",
      "tags": []
     },
     "output_type": "display_data"
    },
    {
     "data": {
      "image/png": "[encoded data removed]",
      "text/plain": [
       "<Figure size 432x288 with 1 Axes>"
      ]
     },
     "metadata": {
      "needs_background": "light",
      "tags": []
     },
     "output_type": "display_data"
    }
   ],
   "source": [
    "'''\n",
    "Graphing training and validation loss\n",
    "in order to see when the model starts to overfit \n",
    "the data\n",
    "'''\n",
    "\n",
    "training_loss = history.history['loss']\n",
    "validation_loss = history.history['val_loss']\n",
    "epochs = range(1, len(training_loss) +1)\n",
    "plt.figure(1)\n",
    "plt.plot(epochs, training_loss, \"r--\")\n",
    "plt.plot(epochs, validation_loss, \"b-\")\n",
    "\n",
    "plt.legend([\"Training loss\", \"Test loss\"])\n",
    "plt.xlabel(\"Epoch\")\n",
    "plt.ylabel(\"Loss\")\n",
    "plt.show()\n",
    "'''\n",
    "Graphing training and validation accuracy\n",
    "over each epoch\n",
    "''' \n",
    "training_accuracy = history.history[\"accuracy\"]\n",
    "validation_accuracy = history.history[\"val_accuracy\"]\n",
    "plt.figure(2)\n",
    "plt.plot(epochs, training_accuracy, \"r--\")\n",
    "plt.plot(epochs, validation_accuracy, \"b-\")\n",
    "\n",
    "plt.legend(['Training Accuracy', 'Test Accuracy'])\n",
    "plt.xlabel(\"Epoch\")\n",
    "plt.ylabel(\"Accuracy Score\")\n",
    "plt.show()\n"
   ]
  },
  {
   "cell_type": "code",
   "execution_count": null,
   "metadata": {
    "id": "q28dl7iPW27H"
   },
   "outputs": [],
   "source": []
  }
 ],
 "metadata": {
  "colab": {
   "collapsed_sections": [],
   "name": "ML_project1.ipynb",
   "provenance": [],
   "toc_visible": true
  },
  "kernelspec": {
   "display_name": "Python 3",
   "language": "python",
   "name": "python3"
  },
  "language_info": {
   "codemirror_mode": {
    "name": "ipython",
    "version": 3
   },
   "file_extension": ".py",
   "mimetype": "text/x-python",
   "name": "python",
   "nbconvert_exporter": "python",
   "pygments_lexer": "ipython3",
   "version": "3.8.3"
  }
 },
 "nbformat": 4,
 "nbformat_minor": 4
}
